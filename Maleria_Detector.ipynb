{
  "cells": [
    {
      "cell_type": "markdown",
      "metadata": {
        "id": "view-in-github",
        "colab_type": "text"
      },
      "source": [
        "<a href=\"https://colab.research.google.com/github/Rafikul10/Maleria_Detector/blob/main/Maleria_Detector.ipynb\" target=\"_parent\"><img src=\"https://colab.research.google.com/assets/colab-badge.svg\" alt=\"Open In Colab\"/></a>"
      ]
    },
    {
      "cell_type": "code",
      "execution_count": 101,
      "metadata": {
        "id": "RJDZk0LE8Iay"
      },
      "outputs": [],
      "source": [
        "from keras.layers import Input, Lambda, Dense, Flatten,Conv2D\n",
        "from keras.models import Model\n",
        "#from keras.applications.vgg16 import VGG16\n",
        "from keras.applications.vgg19 import VGG19\n",
        "from keras.applications.vgg16 import preprocess_input\n",
        "from keras.preprocessing import image\n",
        "from keras.preprocessing.image import ImageDataGenerator\n",
        "from keras.models import Sequential\n",
        "import numpy as np\n",
        "from glob import glob\n",
        "import matplotlib.pyplot as plt"
      ]
    },
    {
      "cell_type": "code",
      "execution_count": 102,
      "metadata": {
        "id": "Ckon117i8LJw"
      },
      "outputs": [],
      "source": [
        "IMAGE_SIZE=[224,224]\n",
        "\n",
        "train_path=\"drive/MyDrive/ColabNotebooks/Dataset/Train\"\n",
        "valid_path=\"drive/MyDrive/ColabNotebooks/Dataset/Test\""
      ]
    },
    {
      "cell_type": "code",
      "execution_count": 103,
      "metadata": {
        "id": "2E9QPWxe8PnC"
      },
      "outputs": [],
      "source": [
        "vgg19=VGG19(input_shape=IMAGE_SIZE + [3],weights=\"imagenet\",include_top=False)"
      ]
    },
    {
      "cell_type": "code",
      "execution_count": 104,
      "metadata": {
        "id": "qWabCPq_8WxS"
      },
      "outputs": [],
      "source": [
        "for layer in vgg19.layers:\n",
        "    layer.trainable = False"
      ]
    },
    {
      "cell_type": "code",
      "execution_count": 105,
      "metadata": {
        "id": "oS77N6Qa8XWt"
      },
      "outputs": [],
      "source": [
        "folders= glob(\"drive/MyDrive/ColabNotebooks/Dataset/Train/*\")"
      ]
    },
    {
      "cell_type": "code",
      "execution_count": 106,
      "metadata": {
        "colab": {
          "base_uri": "https://localhost:8080/"
        },
        "id": "8q4npDNZ8dY8",
        "outputId": "f83aae68-b30c-4ba7-e8ce-b8a44625609c"
      },
      "outputs": [
        {
          "output_type": "execute_result",
          "data": {
            "text/plain": [
              "['drive/MyDrive/ColabNotebooks/Dataset/Train/Parasite',\n",
              " 'drive/MyDrive/ColabNotebooks/Dataset/Train/Uninfected']"
            ]
          },
          "metadata": {},
          "execution_count": 106
        }
      ],
      "source": [
        "folders"
      ]
    },
    {
      "cell_type": "code",
      "execution_count": 107,
      "metadata": {
        "id": "KUmqsHsX_qW5"
      },
      "outputs": [],
      "source": [
        "x = Flatten()(vgg19.output)"
      ]
    },
    {
      "cell_type": "code",
      "execution_count": 108,
      "metadata": {
        "id": "CbdhXqqF8hBi"
      },
      "outputs": [],
      "source": [
        "prediction = Dense(len(folders), activation='softmax')(x)"
      ]
    },
    {
      "cell_type": "code",
      "execution_count": 109,
      "metadata": {
        "id": "zKRt9taX_zE5"
      },
      "outputs": [],
      "source": [
        "model = Model(inputs=vgg19.input, outputs=prediction)\n"
      ]
    },
    {
      "cell_type": "code",
      "execution_count": 110,
      "metadata": {
        "colab": {
          "base_uri": "https://localhost:8080/"
        },
        "id": "1IWA3o8n_1Iz",
        "outputId": "0dc765b3-93d5-49cf-908f-cd516fb87288"
      },
      "outputs": [
        {
          "output_type": "stream",
          "name": "stdout",
          "text": [
            "Model: \"model_2\"\n",
            "_________________________________________________________________\n",
            " Layer (type)                Output Shape              Param #   \n",
            "=================================================================\n",
            " input_3 (InputLayer)        [(None, 224, 224, 3)]     0         \n",
            "                                                                 \n",
            " block1_conv1 (Conv2D)       (None, 224, 224, 64)      1792      \n",
            "                                                                 \n",
            " block1_conv2 (Conv2D)       (None, 224, 224, 64)      36928     \n",
            "                                                                 \n",
            " block1_pool (MaxPooling2D)  (None, 112, 112, 64)      0         \n",
            "                                                                 \n",
            " block2_conv1 (Conv2D)       (None, 112, 112, 128)     73856     \n",
            "                                                                 \n",
            " block2_conv2 (Conv2D)       (None, 112, 112, 128)     147584    \n",
            "                                                                 \n",
            " block2_pool (MaxPooling2D)  (None, 56, 56, 128)       0         \n",
            "                                                                 \n",
            " block3_conv1 (Conv2D)       (None, 56, 56, 256)       295168    \n",
            "                                                                 \n",
            " block3_conv2 (Conv2D)       (None, 56, 56, 256)       590080    \n",
            "                                                                 \n",
            " block3_conv3 (Conv2D)       (None, 56, 56, 256)       590080    \n",
            "                                                                 \n",
            " block3_conv4 (Conv2D)       (None, 56, 56, 256)       590080    \n",
            "                                                                 \n",
            " block3_pool (MaxPooling2D)  (None, 28, 28, 256)       0         \n",
            "                                                                 \n",
            " block4_conv1 (Conv2D)       (None, 28, 28, 512)       1180160   \n",
            "                                                                 \n",
            " block4_conv2 (Conv2D)       (None, 28, 28, 512)       2359808   \n",
            "                                                                 \n",
            " block4_conv3 (Conv2D)       (None, 28, 28, 512)       2359808   \n",
            "                                                                 \n",
            " block4_conv4 (Conv2D)       (None, 28, 28, 512)       2359808   \n",
            "                                                                 \n",
            " block4_pool (MaxPooling2D)  (None, 14, 14, 512)       0         \n",
            "                                                                 \n",
            " block5_conv1 (Conv2D)       (None, 14, 14, 512)       2359808   \n",
            "                                                                 \n",
            " block5_conv2 (Conv2D)       (None, 14, 14, 512)       2359808   \n",
            "                                                                 \n",
            " block5_conv3 (Conv2D)       (None, 14, 14, 512)       2359808   \n",
            "                                                                 \n",
            " block5_conv4 (Conv2D)       (None, 14, 14, 512)       2359808   \n",
            "                                                                 \n",
            " block5_pool (MaxPooling2D)  (None, 7, 7, 512)         0         \n",
            "                                                                 \n",
            " flatten_3 (Flatten)         (None, 25088)             0         \n",
            "                                                                 \n",
            " dense_4 (Dense)             (None, 2)                 50178     \n",
            "                                                                 \n",
            "=================================================================\n",
            "Total params: 20,074,562\n",
            "Trainable params: 50,178\n",
            "Non-trainable params: 20,024,384\n",
            "_________________________________________________________________\n"
          ]
        }
      ],
      "source": [
        "model.summary()"
      ]
    },
    {
      "cell_type": "code",
      "source": [
        "from keras.layers import MaxPooling2D"
      ],
      "metadata": {
        "id": "R0IoGqGsmqrf"
      },
      "execution_count": 111,
      "outputs": []
    },
    {
      "cell_type": "code",
      "source": [
        "### Create Model from scratch using CNN\n",
        "model=Sequential()\n",
        "model.add(Conv2D(filters=16,kernel_size=2,padding=\"same\",activation=\"relu\",input_shape=(224,224,3)))\n",
        "model.add(MaxPooling2D(pool_size=2))\n",
        "model.add(Conv2D(filters=32,kernel_size=2,padding=\"same\",activation =\"relu\"))\n",
        "model.add(MaxPooling2D(pool_size=2))\n",
        "model.add(Conv2D(filters=64,kernel_size=2,padding=\"same\",activation=\"relu\"))\n",
        "model.add(MaxPooling2D(pool_size=2))\n",
        "model.add(Flatten())\n",
        "model.add(Dense(500,activation=\"relu\"))\n",
        "model.add(Dense(2,activation=\"softmax\"))\n",
        "model.summary()"
      ],
      "metadata": {
        "colab": {
          "base_uri": "https://localhost:8080/"
        },
        "id": "TFwvAF5PmWc-",
        "outputId": "9ecba20c-5751-4496-a94a-1269ada09ca8"
      },
      "execution_count": 112,
      "outputs": [
        {
          "output_type": "stream",
          "name": "stdout",
          "text": [
            "Model: \"sequential_2\"\n",
            "_________________________________________________________________\n",
            " Layer (type)                Output Shape              Param #   \n",
            "=================================================================\n",
            " conv2d_3 (Conv2D)           (None, 224, 224, 16)      208       \n",
            "                                                                 \n",
            " max_pooling2d_3 (MaxPooling  (None, 112, 112, 16)     0         \n",
            " 2D)                                                             \n",
            "                                                                 \n",
            " conv2d_4 (Conv2D)           (None, 112, 112, 32)      2080      \n",
            "                                                                 \n",
            " max_pooling2d_4 (MaxPooling  (None, 56, 56, 32)       0         \n",
            " 2D)                                                             \n",
            "                                                                 \n",
            " conv2d_5 (Conv2D)           (None, 56, 56, 64)        8256      \n",
            "                                                                 \n",
            " max_pooling2d_5 (MaxPooling  (None, 28, 28, 64)       0         \n",
            " 2D)                                                             \n",
            "                                                                 \n",
            " flatten_4 (Flatten)         (None, 50176)             0         \n",
            "                                                                 \n",
            " dense_5 (Dense)             (None, 500)               25088500  \n",
            "                                                                 \n",
            " dense_6 (Dense)             (None, 2)                 1002      \n",
            "                                                                 \n",
            "=================================================================\n",
            "Total params: 25,100,046\n",
            "Trainable params: 25,100,046\n",
            "Non-trainable params: 0\n",
            "_________________________________________________________________\n"
          ]
        }
      ]
    },
    {
      "cell_type": "code",
      "execution_count": 113,
      "metadata": {
        "id": "W4C2_tjg_3TK"
      },
      "outputs": [],
      "source": [
        "model.compile(\n",
        "  loss='categorical_crossentropy',\n",
        "  optimizer='adam',\n",
        "  metrics=['accuracy']\n",
        ")"
      ]
    },
    {
      "cell_type": "code",
      "execution_count": 114,
      "metadata": {
        "id": "x4jhR-P-_7f7"
      },
      "outputs": [],
      "source": [
        "from keras.preprocessing.image import ImageDataGenerator"
      ]
    },
    {
      "cell_type": "code",
      "execution_count": 115,
      "metadata": {
        "id": "taUwJOdoBFMs"
      },
      "outputs": [],
      "source": [
        "train_datagen = ImageDataGenerator(rescale = 1./255,\n",
        "                                   shear_range = 0.2,\n",
        "                                   zoom_range = 0.2,\n",
        "                                   horizontal_flip = True)"
      ]
    },
    {
      "cell_type": "code",
      "execution_count": 116,
      "metadata": {
        "id": "wzEq1qgaBIrL"
      },
      "outputs": [],
      "source": [
        "test_datagen = ImageDataGenerator(rescale = 1./255)"
      ]
    },
    {
      "cell_type": "code",
      "execution_count": 117,
      "metadata": {
        "colab": {
          "base_uri": "https://localhost:8080/"
        },
        "id": "t8i5Sma9BK9h",
        "outputId": "69d312f6-4df0-496e-9ab0-de3014525eb0"
      },
      "outputs": [
        {
          "output_type": "stream",
          "name": "stdout",
          "text": [
            "Found 416 images belonging to 2 classes.\n"
          ]
        }
      ],
      "source": [
        "training_set = train_datagen.flow_from_directory('drive/MyDrive/ColabNotebooks/Dataset/Train',\n",
        "                                                 target_size = (224, 224),\n",
        "                                                 batch_size = 32,\n",
        "                                                 class_mode = 'categorical')"
      ]
    },
    {
      "cell_type": "code",
      "execution_count": 118,
      "metadata": {
        "colab": {
          "base_uri": "https://localhost:8080/"
        },
        "id": "jxHaZmubBPjb",
        "outputId": "2317038c-aa32-47a8-ddc2-0aee356ef847"
      },
      "outputs": [
        {
          "output_type": "stream",
          "name": "stdout",
          "text": [
            "Found 134 images belonging to 2 classes.\n"
          ]
        }
      ],
      "source": [
        "test_set = test_datagen.flow_from_directory('drive/MyDrive/ColabNotebooks/Dataset/Test',\n",
        "                                            target_size = (224, 224),\n",
        "                                            batch_size = 32,\n",
        "                                            class_mode = 'categorical')"
      ]
    },
    {
      "cell_type": "code",
      "execution_count": 119,
      "metadata": {
        "colab": {
          "base_uri": "https://localhost:8080/"
        },
        "id": "NqHYKshUBbsS",
        "outputId": "7842ae6d-c22f-47bb-f45b-30c7f70da49e"
      },
      "outputs": [
        {
          "output_type": "stream",
          "name": "stderr",
          "text": [
            "/usr/local/lib/python3.7/dist-packages/ipykernel_launcher.py:6: UserWarning: `Model.fit_generator` is deprecated and will be removed in a future version. Please use `Model.fit`, which supports generators.\n",
            "  \n"
          ]
        },
        {
          "output_type": "stream",
          "name": "stdout",
          "text": [
            "Epoch 1/50\n",
            "13/13 [==============================] - 6s 428ms/step - loss: 0.6291 - accuracy: 0.6466 - val_loss: 0.8158 - val_accuracy: 0.3955\n",
            "Epoch 2/50\n",
            "13/13 [==============================] - 5s 405ms/step - loss: 0.4787 - accuracy: 0.7620 - val_loss: 0.8472 - val_accuracy: 0.4403\n",
            "Epoch 3/50\n",
            "13/13 [==============================] - 5s 404ms/step - loss: 0.4231 - accuracy: 0.8029 - val_loss: 1.1805 - val_accuracy: 0.3955\n",
            "Epoch 4/50\n",
            "13/13 [==============================] - 5s 403ms/step - loss: 0.4082 - accuracy: 0.8125 - val_loss: 0.7375 - val_accuracy: 0.4925\n",
            "Epoch 5/50\n",
            "13/13 [==============================] - 5s 410ms/step - loss: 0.3466 - accuracy: 0.8365 - val_loss: 0.6786 - val_accuracy: 0.6045\n",
            "Epoch 6/50\n",
            "13/13 [==============================] - 5s 404ms/step - loss: 0.2573 - accuracy: 0.9062 - val_loss: 0.7585 - val_accuracy: 0.5896\n",
            "Epoch 7/50\n",
            "13/13 [==============================] - 5s 406ms/step - loss: 0.2421 - accuracy: 0.9038 - val_loss: 0.7029 - val_accuracy: 0.6194\n",
            "Epoch 8/50\n",
            "13/13 [==============================] - 5s 406ms/step - loss: 0.1942 - accuracy: 0.9207 - val_loss: 0.5010 - val_accuracy: 0.7761\n",
            "Epoch 9/50\n",
            "13/13 [==============================] - 5s 409ms/step - loss: 0.2057 - accuracy: 0.9111 - val_loss: 0.3624 - val_accuracy: 0.8284\n",
            "Epoch 10/50\n",
            "13/13 [==============================] - 5s 407ms/step - loss: 0.1700 - accuracy: 0.9327 - val_loss: 0.3875 - val_accuracy: 0.8358\n",
            "Epoch 11/50\n",
            "13/13 [==============================] - 5s 408ms/step - loss: 0.1403 - accuracy: 0.9447 - val_loss: 0.3463 - val_accuracy: 0.8731\n",
            "Epoch 12/50\n",
            "13/13 [==============================] - 5s 407ms/step - loss: 0.1814 - accuracy: 0.9519 - val_loss: 0.4050 - val_accuracy: 0.7985\n",
            "Epoch 13/50\n",
            "13/13 [==============================] - 5s 409ms/step - loss: 0.1308 - accuracy: 0.9447 - val_loss: 0.3476 - val_accuracy: 0.8433\n",
            "Epoch 14/50\n",
            "13/13 [==============================] - 6s 493ms/step - loss: 0.1179 - accuracy: 0.9567 - val_loss: 0.2905 - val_accuracy: 0.8806\n",
            "Epoch 15/50\n",
            "13/13 [==============================] - 5s 407ms/step - loss: 0.1185 - accuracy: 0.9471 - val_loss: 0.2916 - val_accuracy: 0.8507\n",
            "Epoch 16/50\n",
            "13/13 [==============================] - 5s 409ms/step - loss: 0.0986 - accuracy: 0.9760 - val_loss: 0.5045 - val_accuracy: 0.7761\n",
            "Epoch 17/50\n",
            "13/13 [==============================] - 5s 403ms/step - loss: 0.0981 - accuracy: 0.9663 - val_loss: 0.2643 - val_accuracy: 0.8955\n",
            "Epoch 18/50\n",
            "13/13 [==============================] - 5s 410ms/step - loss: 0.0787 - accuracy: 0.9784 - val_loss: 0.3097 - val_accuracy: 0.8582\n",
            "Epoch 19/50\n",
            "13/13 [==============================] - 5s 407ms/step - loss: 0.0671 - accuracy: 0.9736 - val_loss: 0.2889 - val_accuracy: 0.8657\n",
            "Epoch 20/50\n",
            "13/13 [==============================] - 5s 406ms/step - loss: 0.1288 - accuracy: 0.9543 - val_loss: 0.3111 - val_accuracy: 0.8284\n",
            "Epoch 21/50\n",
            "13/13 [==============================] - 5s 405ms/step - loss: 0.0890 - accuracy: 0.9760 - val_loss: 0.3591 - val_accuracy: 0.8284\n",
            "Epoch 22/50\n",
            "13/13 [==============================] - 5s 410ms/step - loss: 0.0727 - accuracy: 0.9639 - val_loss: 0.3044 - val_accuracy: 0.8881\n",
            "Epoch 23/50\n",
            "13/13 [==============================] - 5s 408ms/step - loss: 0.0615 - accuracy: 0.9760 - val_loss: 0.2435 - val_accuracy: 0.8881\n",
            "Epoch 24/50\n",
            "13/13 [==============================] - 5s 407ms/step - loss: 0.0437 - accuracy: 0.9856 - val_loss: 0.2133 - val_accuracy: 0.9254\n",
            "Epoch 25/50\n",
            "13/13 [==============================] - 5s 408ms/step - loss: 0.0533 - accuracy: 0.9808 - val_loss: 0.3328 - val_accuracy: 0.8731\n",
            "Epoch 26/50\n",
            "13/13 [==============================] - 5s 406ms/step - loss: 0.1039 - accuracy: 0.9615 - val_loss: 0.3366 - val_accuracy: 0.8582\n",
            "Epoch 27/50\n",
            "13/13 [==============================] - 5s 404ms/step - loss: 0.0863 - accuracy: 0.9808 - val_loss: 0.2027 - val_accuracy: 0.9104\n",
            "Epoch 28/50\n",
            "13/13 [==============================] - 5s 407ms/step - loss: 0.0524 - accuracy: 0.9784 - val_loss: 0.1340 - val_accuracy: 0.9403\n",
            "Epoch 29/50\n",
            "13/13 [==============================] - 5s 403ms/step - loss: 0.0441 - accuracy: 0.9880 - val_loss: 0.2671 - val_accuracy: 0.8806\n",
            "Epoch 30/50\n",
            "13/13 [==============================] - 5s 410ms/step - loss: 0.0503 - accuracy: 0.9832 - val_loss: 0.2211 - val_accuracy: 0.9030\n",
            "Epoch 31/50\n",
            "13/13 [==============================] - 5s 413ms/step - loss: 0.1302 - accuracy: 0.9519 - val_loss: 0.3198 - val_accuracy: 0.8806\n",
            "Epoch 32/50\n",
            "13/13 [==============================] - 5s 413ms/step - loss: 0.1143 - accuracy: 0.9639 - val_loss: 0.3331 - val_accuracy: 0.8657\n",
            "Epoch 33/50\n",
            "13/13 [==============================] - 5s 419ms/step - loss: 0.0940 - accuracy: 0.9736 - val_loss: 0.3742 - val_accuracy: 0.8657\n",
            "Epoch 34/50\n",
            "13/13 [==============================] - 5s 412ms/step - loss: 0.0778 - accuracy: 0.9639 - val_loss: 1.0605 - val_accuracy: 0.7761\n",
            "Epoch 35/50\n",
            "13/13 [==============================] - 5s 407ms/step - loss: 0.3014 - accuracy: 0.9375 - val_loss: 0.5918 - val_accuracy: 0.6716\n",
            "Epoch 36/50\n",
            "13/13 [==============================] - 5s 410ms/step - loss: 0.3655 - accuracy: 0.8365 - val_loss: 0.7519 - val_accuracy: 0.5821\n",
            "Epoch 37/50\n",
            "13/13 [==============================] - 5s 411ms/step - loss: 0.3322 - accuracy: 0.8678 - val_loss: 0.6185 - val_accuracy: 0.6866\n",
            "Epoch 38/50\n",
            "13/13 [==============================] - 5s 406ms/step - loss: 0.3153 - accuracy: 0.8582 - val_loss: 0.7365 - val_accuracy: 0.6493\n",
            "Epoch 39/50\n",
            "13/13 [==============================] - 5s 408ms/step - loss: 0.2854 - accuracy: 0.8630 - val_loss: 0.9521 - val_accuracy: 0.6791\n",
            "Epoch 40/50\n",
            "13/13 [==============================] - 5s 406ms/step - loss: 0.3718 - accuracy: 0.8293 - val_loss: 0.5609 - val_accuracy: 0.7313\n",
            "Epoch 41/50\n",
            "13/13 [==============================] - 5s 409ms/step - loss: 0.2852 - accuracy: 0.8942 - val_loss: 0.6157 - val_accuracy: 0.7313\n",
            "Epoch 42/50\n",
            "13/13 [==============================] - 5s 406ms/step - loss: 0.2518 - accuracy: 0.9159 - val_loss: 0.7346 - val_accuracy: 0.6343\n",
            "Epoch 43/50\n",
            "13/13 [==============================] - 5s 409ms/step - loss: 0.1738 - accuracy: 0.9351 - val_loss: 0.2636 - val_accuracy: 0.9104\n",
            "Epoch 44/50\n",
            "13/13 [==============================] - 5s 407ms/step - loss: 0.1115 - accuracy: 0.9591 - val_loss: 0.2015 - val_accuracy: 0.9104\n",
            "Epoch 45/50\n",
            "13/13 [==============================] - 5s 414ms/step - loss: 0.0556 - accuracy: 0.9832 - val_loss: 0.1726 - val_accuracy: 0.9403\n",
            "Epoch 46/50\n",
            "13/13 [==============================] - 5s 403ms/step - loss: 0.0549 - accuracy: 0.9832 - val_loss: 0.2750 - val_accuracy: 0.9030\n",
            "Epoch 47/50\n",
            "13/13 [==============================] - 5s 412ms/step - loss: 0.1100 - accuracy: 0.9663 - val_loss: 0.2542 - val_accuracy: 0.9030\n",
            "Epoch 48/50\n",
            "13/13 [==============================] - 6s 477ms/step - loss: 0.1062 - accuracy: 0.9688 - val_loss: 0.2535 - val_accuracy: 0.9179\n",
            "Epoch 49/50\n",
            "13/13 [==============================] - 5s 409ms/step - loss: 0.0540 - accuracy: 0.9832 - val_loss: 0.1616 - val_accuracy: 0.9478\n",
            "Epoch 50/50\n",
            "13/13 [==============================] - 5s 411ms/step - loss: 0.0401 - accuracy: 0.9880 - val_loss: 0.1978 - val_accuracy: 0.9478\n"
          ]
        }
      ],
      "source": [
        "r = model.fit_generator(\n",
        "  training_set,\n",
        "  validation_data=test_set,\n",
        "  epochs=50,\n",
        "  steps_per_epoch=len(training_set),\n",
        "  validation_steps=len(test_set)\n",
        ")"
      ]
    },
    {
      "cell_type": "code",
      "execution_count": 120,
      "metadata": {
        "id": "rM74PuIIBfY0",
        "colab": {
          "base_uri": "https://localhost:8080/",
          "height": 282
        },
        "outputId": "ebc774cb-6222-4119-cbf2-5b914c658b8b"
      },
      "outputs": [
        {
          "output_type": "display_data",
          "data": {
            "text/plain": [
              "<Figure size 432x288 with 1 Axes>"
            ],
            "image/png": "[encoded data removed]"
          },
          "metadata": {
            "needs_background": "light"
          }
        },
        {
          "output_type": "display_data",
          "data": {
            "text/plain": [
              "<Figure size 432x288 with 0 Axes>"
            ]
          },
          "metadata": {}
        }
      ],
      "source": [
        "# plot the loss\n",
        "plt.plot(r.history['loss'], label='train loss')\n",
        "plt.plot(r.history['val_loss'], label='val loss')\n",
        "plt.legend()\n",
        "plt.show()\n",
        "plt.savefig('LossVal_loss')"
      ]
    },
    {
      "cell_type": "code",
      "source": [
        "# plot the accuracy\n",
        "plt.plot(r.history['accuracy'], label='train acc')\n",
        "plt.plot(r.history['val_accuracy'], label='val acc')\n",
        "plt.legend()\n",
        "plt.show()\n",
        "plt.savefig('AccVal_acc')"
      ],
      "metadata": {
        "colab": {
          "base_uri": "https://localhost:8080/",
          "height": 282
        },
        "id": "5prZS_BNbOWr",
        "outputId": "19ba99d2-7426-4eb3-bbae-0c2f35ed74ef"
      },
      "execution_count": 121,
      "outputs": [
        {
          "output_type": "display_data",
          "data": {
            "text/plain": [
              "<Figure size 432x288 with 1 Axes>"
            ],
            "image/png": "[encoded data removed]"
          },
          "metadata": {
            "needs_background": "light"
          }
        },
        {
          "output_type": "display_data",
          "data": {
            "text/plain": [
              "<Figure size 432x288 with 0 Axes>"
            ]
          },
          "metadata": {}
        }
      ]
    },
    {
      "cell_type": "code",
      "source": [
        "# save it as a h5 file\n",
        "from keras.models import load_model\n",
        "\n",
        "model.save('model_vgg19.h5')"
      ],
      "metadata": {
        "id": "FeWTRL59bRV0"
      },
      "execution_count": 122,
      "outputs": []
    },
    {
      "cell_type": "code",
      "source": [
        "y_pred = model.predict(test_set)"
      ],
      "metadata": {
        "colab": {
          "base_uri": "https://localhost:8080/"
        },
        "id": "9F7sC6DrbRNL",
        "outputId": "5f9743d4-115b-42f7-eafc-1f908d146dcc"
      },
      "execution_count": 123,
      "outputs": [
        {
          "output_type": "stream",
          "name": "stderr",
          "text": [
            "WARNING:tensorflow:5 out of the last 15 calls to <function Model.make_predict_function.<locals>.predict_function at 0x7f7aa62e9ef0> triggered tf.function retracing. Tracing is expensive and the excessive number of tracings could be due to (1) creating @tf.function repeatedly in a loop, (2) passing tensors with different shapes, (3) passing Python objects instead of tensors. For (1), please define your @tf.function outside of the loop. For (2), @tf.function has experimental_relax_shapes=True option that relaxes argument shapes that can avoid unnecessary retracing. For (3), please refer to https://www.tensorflow.org/guide/function#controlling_retracing and https://www.tensorflow.org/api_docs/python/tf/function for  more details.\n"
          ]
        }
      ]
    },
    {
      "cell_type": "code",
      "source": [
        "y_pred"
      ],
      "metadata": {
        "colab": {
          "base_uri": "https://localhost:8080/"
        },
        "id": "KmZd9qB5bWoE",
        "outputId": "46db6863-d2b5-4ebc-bd18-4042a67830f7"
      },
      "execution_count": 124,
      "outputs": [
        {
          "output_type": "execute_result",
          "data": {
            "text/plain": [
              "array([[1.00000000e+00, 4.47145654e-09],\n",
              "       [2.48282347e-02, 9.75171745e-01],\n",
              "       [1.00000000e+00, 5.59530235e-08],\n",
              "       [9.99994755e-01, 5.29590216e-06],\n",
              "       [1.00000000e+00, 9.47788403e-10],\n",
              "       [9.99999881e-01, 1.76263669e-07],\n",
              "       [8.97130836e-03, 9.91028726e-01],\n",
              "       [9.99844551e-01, 1.55396105e-04],\n",
              "       [9.17861238e-04, 9.99082088e-01],\n",
              "       [8.53030503e-01, 1.46969467e-01],\n",
              "       [1.00000000e+00, 2.45653799e-17],\n",
              "       [9.92420852e-01, 7.57915666e-03],\n",
              "       [3.62808187e-03, 9.96371984e-01],\n",
              "       [1.00000000e+00, 1.00521067e-12],\n",
              "       [1.00000000e+00, 1.87248368e-08],\n",
              "       [9.99632835e-01, 3.67153698e-04],\n",
              "       [9.24508393e-01, 7.54916444e-02],\n",
              "       [9.99999642e-01, 4.09528269e-07],\n",
              "       [9.99992013e-01, 7.93831077e-06],\n",
              "       [1.00000000e+00, 2.50270693e-09],\n",
              "       [1.40530674e-03, 9.98594701e-01],\n",
              "       [1.00000000e+00, 3.56261773e-24],\n",
              "       [4.85402793e-02, 9.51459706e-01],\n",
              "       [9.99667168e-01, 3.32866621e-04],\n",
              "       [9.99640107e-01, 3.59922415e-04],\n",
              "       [9.99876142e-01, 1.23866135e-04],\n",
              "       [3.67016136e-03, 9.96329844e-01],\n",
              "       [5.77702582e-01, 4.22297448e-01],\n",
              "       [8.76840204e-02, 9.12316024e-01],\n",
              "       [6.56455755e-01, 3.43544275e-01],\n",
              "       [9.99997020e-01, 2.95333484e-06],\n",
              "       [9.86028731e-01, 1.39712840e-02],\n",
              "       [1.00000000e+00, 6.97675362e-10],\n",
              "       [9.99999881e-01, 9.81770043e-08],\n",
              "       [9.95465875e-01, 4.53405594e-03],\n",
              "       [9.69754934e-01, 3.02450825e-02],\n",
              "       [1.00000000e+00, 3.94184143e-13],\n",
              "       [1.00000000e+00, 2.48439416e-18],\n",
              "       [9.99996662e-01, 3.29393470e-06],\n",
              "       [1.00000000e+00, 3.72838066e-10],\n",
              "       [1.00000000e+00, 1.33209568e-10],\n",
              "       [9.99946833e-01, 5.32125741e-05],\n",
              "       [1.00000000e+00, 2.75161671e-10],\n",
              "       [9.41851616e-01, 5.81484362e-02],\n",
              "       [1.72170054e-03, 9.98278260e-01],\n",
              "       [9.99999881e-01, 6.77694345e-08],\n",
              "       [2.63398024e-03, 9.97366011e-01],\n",
              "       [6.70564234e-01, 3.29435766e-01],\n",
              "       [9.99005377e-01, 9.94701055e-04],\n",
              "       [9.99999881e-01, 6.18662241e-08],\n",
              "       [1.00000000e+00, 7.49634044e-09],\n",
              "       [3.30489911e-02, 9.66950953e-01],\n",
              "       [9.99999642e-01, 3.32061290e-07],\n",
              "       [8.06721628e-01, 1.93278387e-01],\n",
              "       [9.75791067e-02, 9.02420938e-01],\n",
              "       [9.99923110e-01, 7.68245518e-05],\n",
              "       [1.00000000e+00, 8.57161980e-11],\n",
              "       [3.14656556e-01, 6.85343444e-01],\n",
              "       [9.99851346e-01, 1.48609586e-04],\n",
              "       [5.49610630e-02, 9.45038974e-01],\n",
              "       [1.00000000e+00, 1.66111558e-09],\n",
              "       [9.97634172e-01, 2.36584246e-03],\n",
              "       [4.20707390e-02, 9.57929313e-01],\n",
              "       [8.29957426e-02, 9.17004228e-01],\n",
              "       [9.63555463e-03, 9.90364492e-01],\n",
              "       [1.00000000e+00, 4.71617134e-10],\n",
              "       [1.00000000e+00, 4.23886490e-12],\n",
              "       [2.59861350e-01, 7.40138650e-01],\n",
              "       [9.89048958e-01, 1.09510524e-02],\n",
              "       [1.00000000e+00, 7.32575242e-19],\n",
              "       [9.99999762e-01, 1.85479834e-07],\n",
              "       [8.53866935e-01, 1.46133110e-01],\n",
              "       [6.76001981e-02, 9.32399809e-01],\n",
              "       [1.00000000e+00, 2.41785543e-08],\n",
              "       [9.99914289e-01, 8.56849219e-05],\n",
              "       [9.76587713e-01, 2.34123021e-02],\n",
              "       [2.76553839e-01, 7.23446190e-01],\n",
              "       [5.08611265e-04, 9.99491334e-01],\n",
              "       [9.99999881e-01, 6.14489721e-08],\n",
              "       [9.99997854e-01, 2.14918077e-06],\n",
              "       [1.09790452e-03, 9.98902082e-01],\n",
              "       [9.92499664e-02, 9.00750101e-01],\n",
              "       [4.89003025e-03, 9.95109975e-01],\n",
              "       [1.60072483e-02, 9.83992755e-01],\n",
              "       [2.15326354e-01, 7.84673691e-01],\n",
              "       [9.97012496e-01, 2.98747956e-03],\n",
              "       [2.69580842e-03, 9.97304201e-01],\n",
              "       [2.26746410e-01, 7.73253620e-01],\n",
              "       [1.00000000e+00, 8.59171223e-09],\n",
              "       [6.48173541e-02, 9.35182631e-01],\n",
              "       [1.60347996e-03, 9.98396456e-01],\n",
              "       [1.41621307e-01, 8.58378708e-01],\n",
              "       [1.00000000e+00, 5.08162956e-10],\n",
              "       [3.71442139e-02, 9.62855816e-01],\n",
              "       [6.99488155e-04, 9.99300480e-01],\n",
              "       [1.00000000e+00, 1.55411773e-12],\n",
              "       [5.79041719e-01, 4.20958281e-01],\n",
              "       [2.18688234e-04, 9.99781311e-01],\n",
              "       [1.00000000e+00, 3.18392965e-21],\n",
              "       [1.66618556e-01, 8.33381474e-01],\n",
              "       [1.00000000e+00, 2.71969047e-09],\n",
              "       [9.99999523e-01, 4.69170089e-07],\n",
              "       [9.99985337e-01, 1.47037445e-05],\n",
              "       [1.80060893e-01, 8.19939077e-01],\n",
              "       [1.00000000e+00, 6.29663837e-29],\n",
              "       [9.99999762e-01, 2.59203716e-07],\n",
              "       [1.00000000e+00, 8.40050685e-15],\n",
              "       [1.00000000e+00, 4.02083202e-08],\n",
              "       [6.22504614e-02, 9.37749565e-01],\n",
              "       [9.99999404e-01, 5.76628565e-07],\n",
              "       [9.99997735e-01, 2.23321126e-06],\n",
              "       [1.00000000e+00, 4.25338431e-09],\n",
              "       [1.00000000e+00, 3.29998633e-11],\n",
              "       [1.82070434e-02, 9.81792986e-01],\n",
              "       [9.09535348e-01, 9.04646516e-02],\n",
              "       [3.79774300e-03, 9.96202290e-01],\n",
              "       [1.45396575e-01, 8.54603469e-01],\n",
              "       [1.00000000e+00, 5.49178946e-16],\n",
              "       [1.81289509e-01, 8.18710446e-01],\n",
              "       [1.00000000e+00, 9.81082215e-10],\n",
              "       [9.99999523e-01, 4.78931270e-07],\n",
              "       [1.00000000e+00, 5.52048429e-15],\n",
              "       [1.00000000e+00, 3.76533187e-23],\n",
              "       [8.82961452e-01, 1.17038526e-01],\n",
              "       [5.01892902e-02, 9.49810624e-01],\n",
              "       [9.99999642e-01, 3.36610242e-07],\n",
              "       [6.26793280e-02, 9.37320709e-01],\n",
              "       [9.99894023e-01, 1.05982952e-04],\n",
              "       [9.98939812e-01, 1.06023427e-03],\n",
              "       [5.33232801e-02, 9.46676672e-01],\n",
              "       [9.99934673e-01, 6.53013412e-05],\n",
              "       [3.36786383e-03, 9.96632159e-01],\n",
              "       [4.14152397e-04, 9.99585807e-01],\n",
              "       [1.00000000e+00, 3.08053183e-09]], dtype=float32)"
            ]
          },
          "metadata": {},
          "execution_count": 124
        }
      ]
    },
    {
      "cell_type": "code",
      "source": [
        "import numpy as np\n",
        "y_pred = np.argmax(y_pred, axis=1)"
      ],
      "metadata": {
        "id": "VuSUve9ubYqA"
      },
      "execution_count": 125,
      "outputs": []
    },
    {
      "cell_type": "code",
      "source": [
        "y_pred"
      ],
      "metadata": {
        "colab": {
          "base_uri": "https://localhost:8080/"
        },
        "id": "HruqMjuzbazX",
        "outputId": "0c79bbf3-9127-4252-f148-ddfcb289e68f"
      },
      "execution_count": 126,
      "outputs": [
        {
          "output_type": "execute_result",
          "data": {
            "text/plain": [
              "array([0, 1, 0, 0, 0, 0, 1, 0, 1, 0, 0, 0, 1, 0, 0, 0, 0, 0, 0, 0, 1, 0,\n",
              "       1, 0, 0, 0, 1, 0, 1, 0, 0, 0, 0, 0, 0, 0, 0, 0, 0, 0, 0, 0, 0, 0,\n",
              "       1, 0, 1, 0, 0, 0, 0, 1, 0, 0, 1, 0, 0, 1, 0, 1, 0, 0, 1, 1, 1, 0,\n",
              "       0, 1, 0, 0, 0, 0, 1, 0, 0, 0, 1, 1, 0, 0, 1, 1, 1, 1, 1, 0, 1, 1,\n",
              "       0, 1, 1, 1, 0, 1, 1, 0, 0, 1, 0, 1, 0, 0, 0, 1, 0, 0, 0, 0, 1, 0,\n",
              "       0, 0, 0, 1, 0, 1, 1, 0, 1, 0, 0, 0, 0, 0, 1, 0, 1, 0, 0, 1, 0, 1,\n",
              "       1, 0])"
            ]
          },
          "metadata": {},
          "execution_count": 126
        }
      ]
    },
    {
      "cell_type": "code",
      "source": [
        "from keras.models import load_model\n",
        "from keras.preprocessing import image"
      ],
      "metadata": {
        "id": "G1QTksZybbYL"
      },
      "execution_count": 127,
      "outputs": []
    },
    {
      "cell_type": "code",
      "source": [
        "model=load_model('model_vgg19.h5')"
      ],
      "metadata": {
        "id": "3dmzVooHbbU_"
      },
      "execution_count": 128,
      "outputs": []
    },
    {
      "cell_type": "code",
      "source": [
        "img=image.load_img(\"drive/MyDrive/ColabNotebooks/Dataset/Test/Uninfected/2.png\",target_size=(224,224))"
      ],
      "metadata": {
        "id": "gBfQ1uaMbbRt"
      },
      "execution_count": 129,
      "outputs": []
    },
    {
      "cell_type": "code",
      "source": [
        "x=image.img_to_array(img)\n",
        "x"
      ],
      "metadata": {
        "colab": {
          "base_uri": "https://localhost:8080/"
        },
        "id": "sjR5gVW1bbOj",
        "outputId": "01201c96-f24a-4a4e-a995-2cd1ddf325a0"
      },
      "execution_count": 130,
      "outputs": [
        {
          "output_type": "execute_result",
          "data": {
            "text/plain": [
              "array([[[0., 0., 0.],\n",
              "        [0., 0., 0.],\n",
              "        [0., 0., 0.],\n",
              "        ...,\n",
              "        [0., 0., 0.],\n",
              "        [0., 0., 0.],\n",
              "        [0., 0., 0.]],\n",
              "\n",
              "       [[0., 0., 0.],\n",
              "        [0., 0., 0.],\n",
              "        [0., 0., 0.],\n",
              "        ...,\n",
              "        [0., 0., 0.],\n",
              "        [0., 0., 0.],\n",
              "        [0., 0., 0.]],\n",
              "\n",
              "       [[0., 0., 0.],\n",
              "        [0., 0., 0.],\n",
              "        [0., 0., 0.],\n",
              "        ...,\n",
              "        [0., 0., 0.],\n",
              "        [0., 0., 0.],\n",
              "        [0., 0., 0.]],\n",
              "\n",
              "       ...,\n",
              "\n",
              "       [[0., 0., 0.],\n",
              "        [0., 0., 0.],\n",
              "        [0., 0., 0.],\n",
              "        ...,\n",
              "        [0., 0., 0.],\n",
              "        [0., 0., 0.],\n",
              "        [0., 0., 0.]],\n",
              "\n",
              "       [[0., 0., 0.],\n",
              "        [0., 0., 0.],\n",
              "        [0., 0., 0.],\n",
              "        ...,\n",
              "        [0., 0., 0.],\n",
              "        [0., 0., 0.],\n",
              "        [0., 0., 0.]],\n",
              "\n",
              "       [[0., 0., 0.],\n",
              "        [0., 0., 0.],\n",
              "        [0., 0., 0.],\n",
              "        ...,\n",
              "        [0., 0., 0.],\n",
              "        [0., 0., 0.],\n",
              "        [0., 0., 0.]]], dtype=float32)"
            ]
          },
          "metadata": {},
          "execution_count": 130
        }
      ]
    },
    {
      "cell_type": "code",
      "source": [
        "x.shape"
      ],
      "metadata": {
        "colab": {
          "base_uri": "https://localhost:8080/"
        },
        "id": "8wTTHZNvbmJ0",
        "outputId": "7267f432-cb73-4dea-de60-e46d620d776b"
      },
      "execution_count": 131,
      "outputs": [
        {
          "output_type": "execute_result",
          "data": {
            "text/plain": [
              "(224, 224, 3)"
            ]
          },
          "metadata": {},
          "execution_count": 131
        }
      ]
    },
    {
      "cell_type": "code",
      "source": [
        "x=x/255"
      ],
      "metadata": {
        "id": "1QQPtpSzboOZ"
      },
      "execution_count": 132,
      "outputs": []
    },
    {
      "cell_type": "code",
      "source": [
        "x=np.expand_dims(x,axis=0)\n",
        "img_data=preprocess_input(x)\n",
        "img_data.shape"
      ],
      "metadata": {
        "colab": {
          "base_uri": "https://localhost:8080/"
        },
        "id": "A9DhZPoTboLz",
        "outputId": "8cbc17c6-df7e-4824-c64c-4332c956c6f2"
      },
      "execution_count": 133,
      "outputs": [
        {
          "output_type": "execute_result",
          "data": {
            "text/plain": [
              "(1, 224, 224, 3)"
            ]
          },
          "metadata": {},
          "execution_count": 133
        }
      ]
    },
    {
      "cell_type": "code",
      "source": [
        "model.predict(img_data)"
      ],
      "metadata": {
        "colab": {
          "base_uri": "https://localhost:8080/"
        },
        "id": "qXCyzbilboJL",
        "outputId": "fa4295de-a7e8-4340-a170-2f968fdc82ed"
      },
      "execution_count": 134,
      "outputs": [
        {
          "output_type": "execute_result",
          "data": {
            "text/plain": [
              "array([[0., 1.]], dtype=float32)"
            ]
          },
          "metadata": {},
          "execution_count": 134
        }
      ]
    },
    {
      "cell_type": "code",
      "source": [
        "a=np.argmax(model.predict(img_data), axis=1)"
      ],
      "metadata": {
        "id": "tK_T61rgboGk"
      },
      "execution_count": 135,
      "outputs": []
    },
    {
      "cell_type": "code",
      "source": [
        "if(a==1):\n",
        "    print(\"Uninfected\")\n",
        "else:\n",
        "    print(\"Infected\")"
      ],
      "metadata": {
        "colab": {
          "base_uri": "https://localhost:8080/"
        },
        "id": "BM0xYbXjboDb",
        "outputId": "d3f28050-63b0-4ae5-95c6-eb2606e55d39"
      },
      "execution_count": 136,
      "outputs": [
        {
          "output_type": "stream",
          "name": "stdout",
          "text": [
            "Uninfected\n"
          ]
        }
      ]
    },
    {
      "cell_type": "code",
      "source": [
        "#Observation: After make the complete model i checked the model by giving \n",
        "#test data set and it's predicted correct and accuracy of this model is 98%"
      ],
      "metadata": {
        "id": "Xr4xCTnH1fgZ"
      },
      "execution_count": null,
      "outputs": []
    }
  ],
  "metadata": {
    "accelerator": "GPU",
    "colab": {
      "collapsed_sections": [],
      "provenance": [],
      "mount_file_id": "17mp5LOJb54dWi_ny1-wi6giqWP7B0g9y",
      "authorship_tag": "ABX9TyMwhwXJJR5Xc/UbxMJqZOZw",
      "include_colab_link": true
    },
    "kernelspec": {
      "display_name": "Python 3",
      "name": "python3"
    },
    "language_info": {
      "name": "python"
    }
  },
  "nbformat": 4,
  "nbformat_minor": 0
}